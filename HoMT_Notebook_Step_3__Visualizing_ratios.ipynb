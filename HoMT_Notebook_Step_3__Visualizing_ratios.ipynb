{
  "nbformat": 4,
  "nbformat_minor": 0,
  "metadata": {
    "colab": {
      "provenance": []
    },
    "kernelspec": {
      "name": "python3",
      "display_name": "Python 3"
    },
    "language_info": {
      "name": "python"
    }
  },
  "cells": [
    {
      "cell_type": "markdown",
      "source": [
        "#Step 3: Visualizing ratios\n",
        "\n",
        "\n",
        "\n",
        "*   Please do not change the code in the first cell.\n",
        "*   You can make any two sinewaves and compare them in the display.\n",
        "*   All you need to do is call the '**generate_and_compare_intervals()**' function and write down the ratios of each interval.\n",
        "\n"
      ],
      "metadata": {
        "id": "5jhKUgEOQmHX"
      }
    },
    {
      "cell_type": "code",
      "source": [
        "import numpy as np\n",
        "import matplotlib.pyplot as plt\n",
        "\n",
        "def generate_and_compare_intervals(base_frequency=261,\n",
        "                                   interval1=81/64,\n",
        "                                   interval2=5/4,\n",
        "                                   duration=2.0,\n",
        "                                   sample_rate=44100,\n",
        "                                   plot=True):\n",
        "    \"\"\"\n",
        "    Generate sine waves for two intervals based on a base frequency and compare them.\n",
        "\n",
        "    Parameters:\n",
        "    - base_frequency (float): The fundamental frequency (e.g., 261 Hz for C4).\n",
        "    - interval1 (float): The first interval ratio (e.g., 81/64 for Pythagorean third).\n",
        "    - interval2 (float): The second interval ratio (e.g., 5/4 for Just Intonation third).\n",
        "    - duration (float): Duration of the generated signal in seconds.\n",
        "    - sample_rate (int): Number of samples per second.\n",
        "    - plot (bool): If True, plot the sine waves for the first 0.01 seconds.\n",
        "\n",
        "    Returns:\n",
        "    - t (numpy.ndarray): Time axis for the generated signals.\n",
        "    - wave1 (numpy.ndarray): Sine wave corresponding to interval1.\n",
        "    - wave2 (numpy.ndarray): Sine wave corresponding to interval2.\n",
        "    \"\"\"\n",
        "    # Define the interval frequencies\n",
        "    frequency1 = base_frequency * interval1\n",
        "    frequency2 = base_frequency * interval2\n",
        "\n",
        "    # Generate the time axis\n",
        "    t = np.linspace(0, duration, int(sample_rate * duration), endpoint=False)\n",
        "\n",
        "    # Generate sine waves for both intervals\n",
        "    wave1 = 0.5 * np.sin(2 * np.pi * frequency1 * t)\n",
        "    wave2 = 0.5 * np.sin(2 * np.pi * frequency2 * t)\n",
        "\n",
        "    # Plot the waveforms if requested\n",
        "    if plot:\n",
        "        plt.figure(figsize=(12, 6))\n",
        "\n",
        "        # Plot first sine wave\n",
        "        plt.plot(t[:500], wave1[:500], color='blue', label=f\"Interval 1 ({interval1:.5f})\")\n",
        "\n",
        "        # Plot second sine wave\n",
        "        plt.plot(t[:500], wave2[:500], color='red', label=f\"Interval 2 ({interval2:.5f})\")\n",
        "\n",
        "        # Add titles, labels, and legend\n",
        "        plt.title(\"Comparison of Two Intervals (First 0.01s)\")\n",
        "        plt.xlabel(\"Time [s]\")\n",
        "        plt.ylabel(\"Amplitude\")\n",
        "        plt.xlim(0, 0.01)\n",
        "        plt.legend(loc='lower right')\n",
        "\n",
        "        # Display the plot\n",
        "        plt.tight_layout()\n",
        "        plt.show()\n",
        "\n",
        "    return t, wave1, wave2\n"
      ],
      "metadata": {
        "id": "s_Abh-N5QRyM"
      },
      "execution_count": 9,
      "outputs": []
    },
    {
      "cell_type": "markdown",
      "source": [
        "# EXERCISE\n",
        "\n",
        "\n",
        "\n",
        "*   COMPARE PYTHAGOREAN THIRD and JUST INTONATION THIRD.\n",
        "\n",
        "\n",
        "\n",
        "1.   put ratio 81/64 in the parameter 'interval1.'\n",
        "2.   put ratio 5/4 in the parameter 'interval2.'\n",
        "\n",
        "\n",
        "*   COMPARE B# and C IN PYTHAGOREAN TUNING.\n",
        "\n",
        "1.   put ratio 531441 / 4096 in the parameter 'interval1.'\n",
        "2.   put ratio 2 in the parameter 'interval2.'\n",
        "\n",
        "\n",
        "* COMPARE Pythagorean FIFTH and Meantone FIFTH.\n",
        "\n",
        "1.   put ratio 3/2 in the parameter 'interval1.'\n",
        "2.   put ratio (3 / 2) * (81/80) ** (1 / 4) in the parameter 'interval2.'\n",
        "\n",
        "\n",
        "\n",
        "*  [OPTIONAL] COMPARE intervals between pythagorean tuning and equal temperament by adding more intervals.\n",
        "\n",
        "1.   put ratio of one interval that you want to compare in pythagorean tuning in the parameter 'interval1.'\n",
        "2.   put ratio of one interval that you want to compare in equal temperament in the parameter 'interval2.'\n",
        "\n"
      ],
      "metadata": {
        "id": "MA5lHmtUBAI_"
      }
    },
    {
      "cell_type": "code",
      "source": [
        "# PUT YOUR RATIOS FOR COMPARISON HERE\n",
        "t, wave1, wave2 = generate_and_compare_intervals(base_frequency=261,\n",
        "                                                  interval1= ,\n",
        "                                                  interval2= ,\n",
        "                                                 duration=2.0,\n",
        "                                                 sample_rate=44100,\n",
        "                                                 plot=True)"
      ],
      "metadata": {
        "colab": {
          "base_uri": "https://localhost:8080/",
          "height": 106
        },
        "id": "8pCrT3FdEWJY",
        "outputId": "27c4bad8-57e1-43bf-a3dd-579f6e68d67b"
      },
      "execution_count": 11,
      "outputs": [
        {
          "output_type": "error",
          "ename": "SyntaxError",
          "evalue": "invalid syntax (<ipython-input-11-b48033fb1838>, line 3)",
          "traceback": [
            "\u001b[0;36m  File \u001b[0;32m\"<ipython-input-11-b48033fb1838>\"\u001b[0;36m, line \u001b[0;32m3\u001b[0m\n\u001b[0;31m    interval1= ,\u001b[0m\n\u001b[0m               ^\u001b[0m\n\u001b[0;31mSyntaxError\u001b[0m\u001b[0;31m:\u001b[0m invalid syntax\n"
          ]
        }
      ]
    }
  ]
}